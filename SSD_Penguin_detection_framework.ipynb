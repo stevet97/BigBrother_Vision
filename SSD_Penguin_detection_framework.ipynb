{
  "nbformat": 4,
  "nbformat_minor": 0,
  "metadata": {
    "colab": {
      "provenance": [],
      "gpuType": "T4"
    },
    "kernelspec": {
      "name": "python3",
      "display_name": "Python 3"
    },
    "language_info": {
      "name": "python"
    },
    "accelerator": "GPU"
  },
  "cells": [
    {
      "cell_type": "code",
      "source": [
        "# Mount drive\n",
        "from google.colab import drive\n",
        "drive.mount('/content/drive')"
      ],
      "metadata": {
        "colab": {
          "base_uri": "https://localhost:8080/"
        },
        "id": "SwArdeKcAGUT",
        "outputId": "8fc09fdf-72c0-4960-8d08-98f49d82efd8"
      },
      "execution_count": 10,
      "outputs": [
        {
          "output_type": "stream",
          "name": "stdout",
          "text": [
            "Drive already mounted at /content/drive; to attempt to forcibly remount, call drive.mount(\"/content/drive\", force_remount=True).\n"
          ]
        }
      ]
    },
    {
      "cell_type": "code",
      "source": [
        "# Import libraries\n",
        "import cv2\n",
        "import tensorflow as tf\n",
        "import numpy as np"
      ],
      "metadata": {
        "id": "YeoknLx1LGFw"
      },
      "execution_count": 11,
      "outputs": []
    },
    {
      "cell_type": "code",
      "source": [
        "# Load the model\n",
        "detect_fn = tf.saved_model.load('/content/drive/MyDrive/ssd_mobilenet_v2/saved_model')\n",
        "\n",
        "# Load category index to map IDs to labels\n",
        "\n",
        "category_index = {\n",
        "  16: {'id': 16, 'name': 'bird'}\n",
        "}  # Fill in based on model's label map"
      ],
      "metadata": {
        "id": "8DuzCcBPLVK4"
      },
      "execution_count": 12,
      "outputs": []
    },
    {
      "cell_type": "code",
      "source": [
        "# Path to your video\n",
        "\n",
        "video_path = '/content/drive/MyDrive/penguins_in_zoo.mp4'\n",
        "cap = cv2.VideoCapture(video_path)\n",
        "width = int(cap.get(cv2.CAP_PROP_FRAME_WIDTH))\n",
        "height = int(cap.get(cv2.CAP_PROP_FRAME_HEIGHT))\n",
        "fps = int(cap.get(cv2.CAP_PROP_FPS))\n",
        "\n",
        "# Output Video writer\n",
        "out = cv2.VideoWriter('output_ssd.mp4', cv2.VideoWriter_fourcc(*'mp4v'), fps, (width, height))\n",
        "\n",
        "#Process the video frame-by-frame\n",
        "success, frame = cap.read()\n",
        "while success:\n",
        "    # Convert frame to a tensor\n",
        "    input_tensor = tf.convert_to_tensor([frame], dtype=tf.uint8)\n",
        "    detections = detect_fn(input_tensor)\n",
        "\n",
        "    # Extract detection fields\n",
        "    bboxes = detections['detection_boxes'][0].numpy()      # [N, 4]\n",
        "    classes = detections['detection_classes'][0].numpy().astype(int)  # [N]\n",
        "    scores = detections['detection_scores'][0].numpy()     # [N]\n",
        "\n",
        "    # Draw detections on the frame\n",
        "    for i, score in enumerate(scores):\n",
        "        if score > 0.4:  # threshold to filter out low-confidence detections\n",
        "            (ymin, xmin, ymax, xmax) = bboxes[i]\n",
        "            (left, right, top, bottom) = (int(xmin * width), int(xmax * width),\n",
        "                                          int(ymin * height), int(ymax * height))\n",
        "\n",
        "            class_id = classes[i]\n",
        "            class_name = category_index[class_id]['name'] if class_id in category_index else 'N/A'\n",
        "\n",
        "            # Draw bounding box\n",
        "            cv2.rectangle(frame, (left, top), (right, bottom), (0, 255, 0), 2)\n",
        "            cv2.putText(frame, f'{class_name}: {score:.2f}', (left, top - 10),\n",
        "                        cv2.FONT_HERSHEY_SIMPLEX, 0.5, (0, 255, 0), 2)\n",
        "\n",
        "    # Write the processed frame to the output video\n",
        "    out.write(frame)\n",
        "    success, frame = cap.read()\n",
        "\n",
        "# Release resources\n",
        "cap.release()\n",
        "out.release()\n"
      ],
      "metadata": {
        "id": "qtDUZ9E9MMDp"
      },
      "execution_count": null,
      "outputs": []
    },
    {
      "cell_type": "code",
      "source": [
        "# Once done, you can display the processed video in Colab\n",
        "from IPython.display import Video\n",
        "Video('output_ssd.mp4', width=600, height=400, embed=True)"
      ],
      "metadata": {
        "id": "JR80vPiTLMyp"
      },
      "execution_count": null,
      "outputs": []
    }
  ]
}