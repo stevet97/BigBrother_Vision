{
  "nbformat": 4,
  "nbformat_minor": 0,
  "metadata": {
    "colab": {
      "provenance": []
    },
    "kernelspec": {
      "name": "python3",
      "display_name": "Python 3"
    },
    "language_info": {
      "name": "python"
    }
  },
  "cells": [
    {
      "cell_type": "code",
      "source": [
        "# Importing the libraries\n",
        "import cv2"
      ],
      "metadata": {
        "id": "t0VdqIMiqtTM"
      },
      "execution_count": 1,
      "outputs": []
    },
    {
      "cell_type": "code",
      "source": [
        "# Link cascades from drive\n",
        "\n",
        "face_cascade = cv2.CascadeClassifier('/home/yourname/PathToCascades/haarcascade_frontalface_default.xml')\n",
        "smile_cascade = cv2.CascadeClassifier('/home/yourname/PathToCascades/haarcascade_smile.xml')"
      ],
      "metadata": {
        "id": "01MT5jTGqw5B"
      },
      "execution_count": 2,
      "outputs": []
    },
    {
      "cell_type": "code",
      "execution_count": 3,
      "metadata": {
        "id": "k1f9nfH-ncBi"
      },
      "outputs": [],
      "source": [
        "# Defining a function that will do the detections\n",
        "def detect(gray, frame):\n",
        "    faces = face_cascade.detectMultiScale(gray, 1.3, 5)\n",
        "    for (x, y, w, h) in faces:\n",
        "        cv2.rectangle(frame, (x, y), (x+w, y+h), (255, 0, 0), 2)\n",
        "        roi_gray = gray[y:y+h, x:x+w]\n",
        "        roi_color = frame[y:y+h, x:x+w]\n",
        "        smiles = smile_cascade.detectMultiScale(roi_gray, 1.8, 20, minSize=(25, 25))\n",
        "        for (sx, sy, sw, sh) in smiles:\n",
        "            cv2.rectangle(roi_color, (sx, sy), (sx+sw, sy+sh), (0, 255, 0), 2)\n",
        "    return frame"
      ]
    },
    {
      "cell_type": "code",
      "source": [
        "# Doing some smile recognition with the webcam\n",
        "video_capture = cv2.VideoCapture(0)\n",
        "\n",
        "if not video_capture.isOpened():\n",
        "    print(\"Error: Could not open video capture\")\n",
        "    exit()\n",
        "\n",
        "while True:\n",
        "    ret, frame = video_capture.read()\n",
        "    if not ret:\n",
        "        print(\"Error: Frame not read correctly\")\n",
        "        break\n",
        "\n",
        "    # Debugging: Check if frame is valid\n",
        "    if frame is None or frame.size == 0:\n",
        "        print(\"Empty frame, skipping\")\n",
        "        continue\n",
        "\n",
        "    # Convert frame to grayscale\n",
        "    gray = cv2.cvtColor(frame, cv2.COLOR_BGR2GRAY)\n",
        "\n",
        "    # Perform detection\n",
        "    canvas = detect(gray, frame)\n",
        "\n",
        "    # Display the video frame\n",
        "    cv2.imshow('Video', canvas)\n",
        "\n",
        "    # Break the loop on 'q' key press\n",
        "    if cv2.waitKey(1) & 0xFF == ord('q'):\n",
        "        break\n",
        "\n",
        "# Release the video capture and close all OpenCV windows\n",
        "video_capture.release()\n",
        "cv2.destroyAllWindows()"
      ],
      "metadata": {
        "colab": {
          "base_uri": "https://localhost:8080/"
        },
        "id": "qK-fanPSwoep",
        "outputId": "3cbca911-b743-4411-9b8b-098bf9771cf5"
      },
      "execution_count": 4,
      "outputs": [
        {
          "output_type": "stream",
          "name": "stdout",
          "text": [
            "Error: Could not open video capture\n",
            "Error: Frame not read correctly\n"
          ]
        }
      ]
    }
  ]
}
